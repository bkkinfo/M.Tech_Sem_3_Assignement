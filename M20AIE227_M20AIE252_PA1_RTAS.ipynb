{
  "nbformat": 4,
  "nbformat_minor": 0,
  "metadata": {
    "colab": {
      "name": "M20AIE227_M20AIE252_PA1_RTAS.ipynb",
      "provenance": []
    },
    "kernelspec": {
      "name": "python3",
      "display_name": "Python 3"
    },
    "language_info": {
      "name": "python"
    }
  },
  "cells": [
    {
      "cell_type": "code",
      "execution_count": 1,
      "metadata": {
        "colab": {
          "base_uri": "https://localhost:8080/"
        },
        "id": "xPEFjRLk5xBv",
        "outputId": "7bbaee62-fabe-46e5-eb62-be46c1c78e9d"
      },
      "outputs": [
        {
          "output_type": "stream",
          "name": "stdout",
          "text": [
            "Found existing installation: opencv-python 4.1.2.30\n",
            "Uninstalling opencv-python-4.1.2.30:\n",
            "  Would remove:\n",
            "    /usr/local/lib/python3.7/dist-packages/cv2/*\n",
            "    /usr/local/lib/python3.7/dist-packages/opencv_python-4.1.2.30.dist-info/*\n",
            "Proceed (y/n)? y\n",
            "  Successfully uninstalled opencv-python-4.1.2.30\n"
          ]
        }
      ],
      "source": [
        "!pip uninstall opencv-python"
      ]
    },
    {
      "cell_type": "code",
      "source": [
        "!pip uninstall opencv-contrib-python"
      ],
      "metadata": {
        "colab": {
          "base_uri": "https://localhost:8080/"
        },
        "id": "_JHEmTx8ATL_",
        "outputId": "33687b05-c98d-475b-df06-714dffc783d2"
      },
      "execution_count": 3,
      "outputs": [
        {
          "output_type": "stream",
          "name": "stdout",
          "text": [
            "\u001b[33mWARNING: Skipping opencv-contrib-python as it is not installed.\u001b[0m\n"
          ]
        }
      ]
    },
    {
      "cell_type": "code",
      "source": [
        "!pip install opencv-contrib-python"
      ],
      "metadata": {
        "colab": {
          "base_uri": "https://localhost:8080/"
        },
        "id": "mw0A8Bpr5xxZ",
        "outputId": "96ddea9a-4c9d-4b85-9ca5-46445f2b84de"
      },
      "execution_count": 4,
      "outputs": [
        {
          "output_type": "stream",
          "name": "stdout",
          "text": [
            "Collecting opencv-contrib-python\n",
            "  Downloading opencv_contrib_python-4.5.5.64-cp36-abi3-manylinux_2_17_x86_64.manylinux2014_x86_64.whl (66.7 MB)\n",
            "\u001b[K     |████████████████████████████████| 66.7 MB 20 kB/s \n",
            "\u001b[?25hRequirement already satisfied: numpy>=1.14.5 in /usr/local/lib/python3.7/dist-packages (from opencv-contrib-python) (1.21.5)\n",
            "Installing collected packages: opencv-contrib-python\n",
            "Successfully installed opencv-contrib-python-4.5.5.64\n"
          ]
        }
      ]
    },
    {
      "cell_type": "markdown",
      "source": [
        "##Importing required libraries"
      ],
      "metadata": {
        "id": "M3LuAOJp6BIO"
      }
    },
    {
      "cell_type": "code",
      "source": [
        "import cv2\n",
        "from matplotlib import pyplot as plt\n",
        "from pylab import *\n",
        "from numpy import *\n",
        "from scipy import linalg\n",
        "import pandas as pd\n",
        "import numpy as np"
      ],
      "metadata": {
        "id": "HKoCDyoD57LC"
      },
      "execution_count": 5,
      "outputs": []
    },
    {
      "cell_type": "code",
      "source": [
        "K = [[1698.873755, 0.000000, 971.7497705],\n",
        "     [0.000000, 1698.8796645, 647.7488275],\n",
        "     [0.000000, 0.000000, 1.000000]]\n",
        "\n",
        "K = np.asarray(K)"
      ],
      "metadata": {
        "id": "w2bPYj036Gij"
      },
      "execution_count": 6,
      "outputs": []
    },
    {
      "cell_type": "code",
      "source": [
        "K_inverse = np.linalg.inv(K)"
      ],
      "metadata": {
        "id": "q2LHtUdQ6hVg"
      },
      "execution_count": 7,
      "outputs": []
    },
    {
      "cell_type": "code",
      "source": [
        "K"
      ],
      "metadata": {
        "colab": {
          "base_uri": "https://localhost:8080/"
        },
        "id": "DnUzClXz6qQG",
        "outputId": "273c9663-d085-46a9-918d-76091bef24b6"
      },
      "execution_count": 8,
      "outputs": [
        {
          "output_type": "execute_result",
          "data": {
            "text/plain": [
              "array([[1.69887376e+03, 0.00000000e+00, 9.71749770e+02],\n",
              "       [0.00000000e+00, 1.69887966e+03, 6.47748827e+02],\n",
              "       [0.00000000e+00, 0.00000000e+00, 1.00000000e+00]])"
            ]
          },
          "metadata": {},
          "execution_count": 8
        }
      ]
    },
    {
      "cell_type": "code",
      "source": [
        "K_inverse"
      ],
      "metadata": {
        "colab": {
          "base_uri": "https://localhost:8080/"
        },
        "id": "vaRaUThv6rte",
        "outputId": "a9a3e397-6f41-4a72-8a64-a71ce30c4c89"
      },
      "execution_count": 9,
      "outputs": [
        {
          "output_type": "execute_result",
          "data": {
            "text/plain": [
              "array([[ 5.88625257e-04,  0.00000000e+00, -5.71996458e-01],\n",
              "       [ 0.00000000e+00,  5.88623209e-04, -3.81279994e-01],\n",
              "       [ 0.00000000e+00,  0.00000000e+00,  1.00000000e+00]])"
            ]
          },
          "metadata": {},
          "execution_count": 9
        }
      ]
    },
    {
      "cell_type": "code",
      "source": [
        "image_1 = cv2.imread('/content/im1.jpg', 0)\n",
        "image_2 = cv2.imread('/content/im2.jpg', 0)"
      ],
      "metadata": {
        "id": "ZiUfEBnC6syd"
      },
      "execution_count": 10,
      "outputs": []
    },
    {
      "cell_type": "code",
      "source": [
        "def find_ground_truth_correspondences(image1, image2):\n",
        "  #Class for extracting keypoints and computing descriptors using the Scale Invariant Feature Transform\n",
        "  sift = cv2.xfeatures2d.SIFT_create()\n",
        "  #find keypoints and descriptors\n",
        "  kp1, des1 = sift.detectAndCompute(image1,None)\n",
        "  kp2, des2 = sift.detectAndCompute(image2,None)\n",
        "  #Flann-based descriptor matcher.\n",
        "  flann = cv2.FlannBasedMatcher(dict(algorithm = 0, trees = 5),dict(checks=50))\n",
        "  matches = flann.knnMatch(des1,des2,k=2)\n",
        "  src_pts= []\n",
        "  dst_pts = []\n",
        "\n",
        "  # store all the good matches as per Lowe's ratio test.\n",
        "  j = 0\n",
        "  for i,(m,n) in enumerate(matches):\n",
        "    if m.distance < 0.8*n.distance:\n",
        "        dst_pts.append((kp2[m.trainIdx].pt, 1))\n",
        "        src_pts.append(kp1[m.queryIdx].pt)\n",
        "        j = j+1\n",
        "        if j == 100:\n",
        "          break\n",
        "  src_pts = [list(tup)+[1] for tup in src_pts]\n",
        "  dst_pts = [list(tup)+[1] for tup in dst_pts]\n",
        "  src_pts, pts2 = np.asarray(src_pts), np.asarray(dst_pts)\n",
        "  src_pts = np.float64(src_pts)\n",
        "  dst_pts = np.float64(src_pts)\n",
        "\n",
        "  return src_pts, dst_pts"
      ],
      "metadata": {
        "id": "HOXo4e1S75kn"
      },
      "execution_count": 17,
      "outputs": []
    },
    {
      "cell_type": "code",
      "source": [
        "src_pts, dst_pts = find_ground_truth_correspondences(image_1, image_2)"
      ],
      "metadata": {
        "colab": {
          "base_uri": "https://localhost:8080/"
        },
        "id": "ZrmzcKKC98Qb",
        "outputId": "3c05e341-2800-4fcf-a5d2-f0c24061fb92"
      },
      "execution_count": 18,
      "outputs": [
        {
          "output_type": "stream",
          "name": "stderr",
          "text": [
            "/usr/local/lib/python3.7/dist-packages/ipykernel_launcher.py:24: VisibleDeprecationWarning: Creating an ndarray from ragged nested sequences (which is a list-or-tuple of lists-or-tuples-or ndarrays with different lengths or shapes) is deprecated. If you meant to do this, you must specify 'dtype=object' when creating the ndarray.\n"
          ]
        }
      ]
    },
    {
      "cell_type": "code",
      "source": [
        "def convert_world_to_camera_coordinate_system(src_pts, dst_pts, k):\n",
        "  k_inv = np.linalg.inv(k)\n",
        "  src_pts = [np.dot(k_inv, item) for item in src_pts]\n",
        "  dst_pts = [np.dot(k_inv, item) for item in dst_pts]\n",
        "  return src_pts, dst_pts"
      ],
      "metadata": {
        "id": "xSYTB4pV-Hja"
      },
      "execution_count": 19,
      "outputs": []
    },
    {
      "cell_type": "code",
      "source": [
        "def build_matrix_for_eq(src_pts,dst_pts):\n",
        "  A = []\n",
        "  for i in range(8):\n",
        "    z = np.kron(dst_pts[i], src_pts[i])\n",
        "    A.append(z)\n",
        "  A = np.asarray(A)\n",
        "  print(A.shape)\n",
        "  return A"
      ],
      "metadata": {
        "id": "Ztfo4d3NC9O4"
      },
      "execution_count": 20,
      "outputs": []
    },
    {
      "cell_type": "code",
      "source": [
        "def compute_essential(src_pts, dst_pts):\n",
        "  \n",
        "  x1, x2 = convert_world_to_camera_coordinate_system(src_pts, dst_pts, K)\n",
        "  x1 = np.asarray(x1)\n",
        "  x2 = np.asarray(x2)\n",
        "  n = x1.shape[1]\n",
        "  if x2.shape[1] != n:\n",
        "    raise ValueError(\"Number of points don't match.\")\n",
        " \n",
        "  A = build_matrix_for_eq(src_pts, dst_pts)\n",
        "\n",
        "\n",
        "  U,S,V = linalg.svd(A)\n",
        "  E = V[-1].reshape(3,3)\n",
        "  # constrain F\n",
        "  # make rank 2 by zeroing out last singular value\n",
        "  Ua,Sa,Va = linalg.svd(E)\n",
        "  \n",
        "  sigma = (Sa[0]+Sa[1])/2\n",
        "  Sa[0] = sigma\n",
        "  Sa[1] = sigma\n",
        "  Sa[2] = 0\n",
        "  \n",
        "  Ea = np.dot(Ua,np.dot(diag(Sa),Va))\n",
        "\n",
        "  return sigma , Ea"
      ],
      "metadata": {
        "id": "Mepx0U8wCHbQ"
      },
      "execution_count": 21,
      "outputs": []
    },
    {
      "cell_type": "code",
      "source": [
        "sigma, E = compute_essential(src_pts, dst_pts)"
      ],
      "metadata": {
        "colab": {
          "base_uri": "https://localhost:8080/"
        },
        "id": "Y-850yttDb6t",
        "outputId": "3e920c76-849a-4a03-e4fe-e3bf855ed74c"
      },
      "execution_count": 22,
      "outputs": [
        {
          "output_type": "stream",
          "name": "stdout",
          "text": [
            "(8, 9)\n"
          ]
        }
      ]
    },
    {
      "cell_type": "code",
      "source": [
        "E"
      ],
      "metadata": {
        "colab": {
          "base_uri": "https://localhost:8080/"
        },
        "id": "Sk_NmZKBDig_",
        "outputId": "80b3ec9c-9c54-4ed5-9ca5-d925f115958a"
      },
      "execution_count": 23,
      "outputs": [
        {
          "output_type": "execute_result",
          "data": {
            "text/plain": [
              "array([[-3.43233757e-22,  1.80399143e-08, -3.09152220e-06],\n",
              "       [-1.80399142e-08, -1.65426508e-18,  7.07106781e-01],\n",
              "       [ 3.09152221e-06, -7.07106781e-01, -7.18875573e-20]])"
            ]
          },
          "metadata": {},
          "execution_count": 23
        }
      ]
    },
    {
      "cell_type": "code",
      "source": [
        "def compute_Rotation_and_Translation_matrix(E, sigma):\n",
        "  #Singular Value Decomposition\n",
        "  U,S,V = linalg.svd(E)\n",
        "\n",
        "  R_z = [[0, -1, 0],\n",
        "         [1, 0, 0],\n",
        "         [0, 0, 1]]\n",
        "  R_z = np.asarray(R_z)\n",
        "             \n",
        "  R1 = np.dot(U ,np.dot(R_z, V))\n",
        "  R2 = np.dot(U ,np.dot(np.transpose(R_z), V))\n",
        "  T1 = U[:,2]\n",
        "  T2 = -U[:,2]\n",
        "\n",
        "  return R1, R2, T1, T2"
      ],
      "metadata": {
        "id": "y_6sCS-xDlkA"
      },
      "execution_count": 24,
      "outputs": []
    },
    {
      "cell_type": "code",
      "source": [
        "R1, R2, T1, T2 = compute_Rotation_and_Translation_matrix(E, sigma)"
      ],
      "metadata": {
        "id": "aPEFr4L5EYuR"
      },
      "execution_count": 25,
      "outputs": []
    },
    {
      "cell_type": "code",
      "source": [
        "def compute_M_and_N_matrix(R1, R2, T1, T2,K):\n",
        "  I_O = [[1, 0, 0, 0], [0, 1, 0, 0], [0, 0, 1, 0]]\n",
        "  M = np.dot(K, I_O)\n",
        "  T1 = np.expand_dims(T1, axis = 1)\n",
        "  R_t = np.hstack((R1,T1))\n",
        "  N = np.dot(K, R_t)\n",
        "  return M, N"
      ],
      "metadata": {
        "id": "86lpiTerEcPX"
      },
      "execution_count": 27,
      "outputs": []
    },
    {
      "cell_type": "code",
      "source": [
        "M, N = compute_M_and_N_matrix(R1, R2, T1, T2,K)"
      ],
      "metadata": {
        "id": "sSjKZpGFEgmv"
      },
      "execution_count": 28,
      "outputs": []
    },
    {
      "cell_type": "markdown",
      "source": [
        "Let Pi be the corresponding 3D point for the pixel pair (pi\n",
        ", p\n",
        "0\n",
        "i\n",
        "). Find Pi\n",
        ", ∀i ∈ {1, 2, . . . , n} using\n",
        "\n",
        "the triangulation approach learned in the class."
      ],
      "metadata": {
        "id": "aj9HUWYqFnav"
      }
    },
    {
      "cell_type": "code",
      "source": [
        "def triangulate_point(X1,X2,P1,P2):    \n",
        "    A = zeros((6,6))\n",
        "    A[:3,:4] = P1\n",
        "    A[3:,:4] = P2\n",
        "    A[:3,4] = -X1\n",
        "    A[3:,5] = -X2\n",
        "    U,S,V = linalg.svd(A)\n",
        "    X = V[-1,:4]\n",
        "    return X / X[3]"
      ],
      "metadata": {
        "id": "S984-044FtKf"
      },
      "execution_count": 29,
      "outputs": []
    },
    {
      "cell_type": "code",
      "source": [
        "def triangulation_approach(pts1,pts2,P1,P2):   \n",
        "    n = pts1[0].reshape(3,1).shape[1]\n",
        "    three_d_points = []    \n",
        "    for j in range(len(pts1)):\n",
        "      X1 = pts1[j].reshape(3,1)\n",
        "      X2 = pts2[j].reshape(3,1)\n",
        "      X = [ triangulate_point(X1[:,i],X2[:,i],P1,P2) for i in range(n)]\n",
        "      three_d_points.append(array(X).T)\n",
        "    return three_d_points"
      ],
      "metadata": {
        "id": "VK0H8IEWFNOz"
      },
      "execution_count": 30,
      "outputs": []
    },
    {
      "cell_type": "code",
      "source": [
        "ff = triangulation_approach(src_pts,dst_pts,M,N)"
      ],
      "metadata": {
        "id": "gIJB0TFtFQSn"
      },
      "execution_count": 31,
      "outputs": []
    },
    {
      "cell_type": "code",
      "source": [
        "ff"
      ],
      "metadata": {
        "colab": {
          "base_uri": "https://localhost:8080/"
        },
        "id": "M9UBgNbqGHEI",
        "outputId": "2cf00c11-6688-4418-8e35-97d1a1d160d1"
      },
      "execution_count": 32,
      "outputs": [
        {
          "output_type": "execute_result",
          "data": {
            "text/plain": [
              "[array([[-4.25704011e+15],\n",
              "        [ 4.84316949e+14],\n",
              "        [ 1.01021714e+16],\n",
              "        [ 1.00000000e+00]]), array([[ 4.74624336e+14],\n",
              "        [-5.19344520e+14],\n",
              "        [-2.16635194e+15],\n",
              "        [ 1.00000000e+00]]), array([[ 1.40972719e+15],\n",
              "        [-1.62119964e+15],\n",
              "        [-6.53980582e+15],\n",
              "        [ 1.00000000e+00]]), array([[ 3.69972884e+14],\n",
              "        [-3.97056600e+14],\n",
              "        [-1.72343128e+15],\n",
              "        [ 1.00000000e+00]]), array([[-6.39996796e+15],\n",
              "        [ 7.81561073e+15],\n",
              "        [ 3.04056874e+16],\n",
              "        [ 1.00000000e+00]]), array([[ 1.18582646e+15],\n",
              "        [-1.26985822e+15],\n",
              "        [-5.64991354e+15],\n",
              "        [ 1.00000000e+00]]), array([[-2.34089716e+15],\n",
              "        [ 3.06047920e+15],\n",
              "        [ 1.12588756e+16],\n",
              "        [ 1.00000000e+00]]), array([[ 1.13417963e+15],\n",
              "        [-1.29536839e+15],\n",
              "        [-5.45720188e+15],\n",
              "        [ 1.00000000e+00]]), array([[ 5.55997845e+14],\n",
              "        [-7.42289119e+14],\n",
              "        [-2.68641434e+15],\n",
              "        [ 1.00000000e+00]]), array([[ 2.74454869e+14],\n",
              "        [-3.52469002e+14],\n",
              "        [-1.33373953e+15],\n",
              "        [ 1.00000000e+00]]), array([[ 2.74454869e+14],\n",
              "        [-3.52469002e+14],\n",
              "        [-1.33373953e+15],\n",
              "        [ 1.00000000e+00]]), array([[-5.06279827e+15],\n",
              "        [ 6.57450443e+15],\n",
              "        [ 2.46573658e+16],\n",
              "        [ 1.00000000e+00]]), array([[ 1.76331213e+15],\n",
              "        [-2.31186602e+15],\n",
              "        [-8.59603603e+15],\n",
              "        [ 1.00000000e+00]]), array([[ 2.35888245e+14],\n",
              "        [-2.86295270e+14],\n",
              "        [-1.15637555e+15],\n",
              "        [ 1.00000000e+00]]), array([[ 3.32648330e+14],\n",
              "        [-3.53451678e+14],\n",
              "        [-1.65738463e+15],\n",
              "        [ 1.00000000e+00]]), array([[-5.14880032e+14],\n",
              "        [ 7.01523469e+14],\n",
              "        [ 2.57201857e+15],\n",
              "        [ 1.00000000e+00]]), array([[ 4.74786845e+14],\n",
              "        [-6.12697872e+14],\n",
              "        [-2.38776587e+15],\n",
              "        [ 1.00000000e+00]]), array([[ 8.47069753e+14],\n",
              "        [-1.11892569e+15],\n",
              "        [-4.27446893e+15],\n",
              "        [ 1.00000000e+00]]), array([[ 2.08171372e+15],\n",
              "        [-2.24788524e+15],\n",
              "        [-1.05894036e+16],\n",
              "        [ 1.00000000e+00]]), array([[ 3.68156536e+14],\n",
              "        [-4.18520695e+14],\n",
              "        [-1.87993028e+15],\n",
              "        [ 1.00000000e+00]]), array([[ 4.50191034e+14],\n",
              "        [-6.20162076e+14],\n",
              "        [-2.30166166e+15],\n",
              "        [ 1.00000000e+00]]), array([[ 8.62309769e+14],\n",
              "        [-1.12200940e+15],\n",
              "        [-4.42273577e+15],\n",
              "        [ 1.00000000e+00]]), array([[ 9.17473690e+14],\n",
              "        [-1.29381852e+15],\n",
              "        [-4.73575080e+15],\n",
              "        [ 1.00000000e+00]]), array([[ 9.17473690e+14],\n",
              "        [-1.29381852e+15],\n",
              "        [-4.73575080e+15],\n",
              "        [ 1.00000000e+00]]), array([[ 1.99013103e+14],\n",
              "        [-2.31257702e+14],\n",
              "        [-1.02834447e+15],\n",
              "        [ 1.00000000e+00]]), array([[ 1.99013103e+14],\n",
              "        [-2.31257702e+14],\n",
              "        [-1.02834447e+15],\n",
              "        [ 1.00000000e+00]]), array([[ 3.24618026e+14],\n",
              "        [-4.66842992e+14],\n",
              "        [-1.68386253e+15],\n",
              "        [ 1.00000000e+00]]), array([[-1.01290415e+15],\n",
              "        [ 1.34645226e+15],\n",
              "        [ 5.27918309e+15],\n",
              "        [ 1.00000000e+00]]), array([[ 4.12217469e+14],\n",
              "        [-5.46013621e+14],\n",
              "        [-2.15368209e+15],\n",
              "        [ 1.00000000e+00]]), array([[-1.39190439e+16],\n",
              "        [ 1.61122860e+16],\n",
              "        [ 7.29311928e+16],\n",
              "        [ 1.00000000e+00]]), array([[-3.67715428e+15],\n",
              "        [ 3.97945247e+15],\n",
              "        [ 1.93260938e+16],\n",
              "        [ 1.00000000e+00]]), array([[ 4.11481895e+14],\n",
              "        [-4.33166668e+14],\n",
              "        [-2.17694575e+15],\n",
              "        [ 1.00000000e+00]]), array([[ 2.92157550e+14],\n",
              "        [-3.99502706e+14],\n",
              "        [-1.56659167e+15],\n",
              "        [ 1.00000000e+00]]), array([[ 4.05831687e+14],\n",
              "        [-6.12701105e+14],\n",
              "        [-2.20839026e+15],\n",
              "        [ 1.00000000e+00]]), array([[-1.21005115e+15],\n",
              "        [ 1.69510499e+15],\n",
              "        [ 6.68495766e+15],\n",
              "        [ 1.00000000e+00]]), array([[ 3.96344029e+14],\n",
              "        [-4.25287004e+14],\n",
              "        [-2.19326563e+15],\n",
              "        [ 1.00000000e+00]]), array([[-4.22245971e+15],\n",
              "        [ 5.75527314e+15],\n",
              "        [ 2.34128991e+16],\n",
              "        [ 1.00000000e+00]]), array([[ 2.49385070e+14],\n",
              "        [-3.68044294e+14],\n",
              "        [-1.41141847e+15],\n",
              "        [ 1.00000000e+00]]), array([[ 6.74709243e+14],\n",
              "        [-7.20101179e+14],\n",
              "        [-3.82783053e+15],\n",
              "        [ 1.00000000e+00]]), array([[ 2.01292593e+14],\n",
              "        [-2.93887405e+14],\n",
              "        [-1.14538827e+15],\n",
              "        [ 1.00000000e+00]]), array([[-1.58345805e+15],\n",
              "        [ 2.29226309e+15],\n",
              "        [ 9.10399019e+15],\n",
              "        [ 1.00000000e+00]]), array([[ 3.18958240e+14],\n",
              "        [-4.30105135e+14],\n",
              "        [-1.83872824e+15],\n",
              "        [ 1.00000000e+00]]), array([[-3.55604199e+15],\n",
              "        [ 4.87123695e+15],\n",
              "        [ 2.05077207e+16],\n",
              "        [ 1.00000000e+00]]), array([[ 2.02324229e+14],\n",
              "        [-3.26837022e+14],\n",
              "        [-1.17644361e+15],\n",
              "        [ 1.00000000e+00]]), array([[ 3.57918245e+14],\n",
              "        [-5.91597480e+14],\n",
              "        [-2.12397738e+15],\n",
              "        [ 1.00000000e+00]]), array([[ 4.02932470e+14],\n",
              "        [-5.83975662e+14],\n",
              "        [-2.41267783e+15],\n",
              "        [ 1.00000000e+00]]), array([[ 3.05550444e+14],\n",
              "        [-4.51969394e+14],\n",
              "        [-1.84305244e+15],\n",
              "        [ 1.00000000e+00]]), array([[ 3.21176274e+14],\n",
              "        [-3.91829502e+14],\n",
              "        [-1.94529627e+15],\n",
              "        [ 1.00000000e+00]]), array([[ 5.91685944e+14],\n",
              "        [-9.90491552e+14],\n",
              "        [-3.63750783e+15],\n",
              "        [ 1.00000000e+00]]), array([[ 3.23960923e+14],\n",
              "        [-5.34385394e+14],\n",
              "        [-1.99705941e+15],\n",
              "        [ 1.00000000e+00]]), array([[ 6.41809337e+14],\n",
              "        [-9.67676949e+14],\n",
              "        [-4.00302848e+15],\n",
              "        [ 1.00000000e+00]]), array([[ 8.32193315e+14],\n",
              "        [-1.24767177e+15],\n",
              "        [-5.21141033e+15],\n",
              "        [ 1.00000000e+00]]), array([[ 3.36749130e+14],\n",
              "        [-4.44636161e+14],\n",
              "        [-2.21035504e+15],\n",
              "        [ 1.00000000e+00]]), array([[-1.89144923e+14],\n",
              "        [ 2.59693944e+14],\n",
              "        [ 1.24696065e+15],\n",
              "        [ 1.00000000e+00]]), array([[ 3.53983321e+14],\n",
              "        [-4.31767188e+14],\n",
              "        [-2.34042386e+15],\n",
              "        [ 1.00000000e+00]]), array([[ 1.50766482e+15],\n",
              "        [-2.09516863e+15],\n",
              "        [-9.97473432e+15],\n",
              "        [ 1.00000000e+00]]), array([[-1.17761969e+16],\n",
              "        [ 6.56738393e+15],\n",
              "        [ 8.28399624e+16],\n",
              "        [ 1.00000000e+00]]), array([[ 2.17317392e+14],\n",
              "        [-3.10707670e+14],\n",
              "        [-1.53244206e+15],\n",
              "        [ 1.00000000e+00]]), array([[ 2.58164553e+14],\n",
              "        [-4.43789802e+14],\n",
              "        [-1.82508361e+15],\n",
              "        [ 1.00000000e+00]]), array([[-1.94923418e+15],\n",
              "        [-1.20227091e+15],\n",
              "        [ 1.38043098e+16],\n",
              "        [ 1.00000000e+00]]), array([[ 2.67265046e+14],\n",
              "        [-3.75375498e+14],\n",
              "        [-1.89416509e+15],\n",
              "        [ 1.00000000e+00]]), array([[ 5.83778235e+15],\n",
              "        [ 4.28085227e+15],\n",
              "        [-4.13919938e+16],\n",
              "        [ 1.00000000e+00]]), array([[ 8.27480121e+14],\n",
              "        [ 7.83927085e+14],\n",
              "        [-5.90666226e+15],\n",
              "        [ 1.00000000e+00]]), array([[ 8.27480121e+14],\n",
              "        [ 7.83927085e+14],\n",
              "        [-5.90666226e+15],\n",
              "        [ 1.00000000e+00]]), array([[-1.16099593e+15],\n",
              "        [-5.07496841e+14],\n",
              "        [ 8.28827304e+15],\n",
              "        [ 1.00000000e+00]]), array([[-5.26144769e+14],\n",
              "        [-2.94814995e+14],\n",
              "        [ 3.76597929e+15],\n",
              "        [ 1.00000000e+00]]), array([[ 2.04369812e+14],\n",
              "        [-3.20381054e+14],\n",
              "        [-1.46951427e+15],\n",
              "        [ 1.00000000e+00]]), array([[ 3.49340271e+14],\n",
              "        [-1.04418939e+14],\n",
              "        [-2.51255882e+15],\n",
              "        [ 1.00000000e+00]]), array([[ 3.46536254e+14],\n",
              "        [-5.43847048e+14],\n",
              "        [-2.49372148e+15],\n",
              "        [ 1.00000000e+00]]), array([[-2.34672833e+14],\n",
              "        [ 8.14272035e+13],\n",
              "        [ 1.69199312e+15],\n",
              "        [ 1.00000000e+00]]), array([[ 5.70622429e+14],\n",
              "        [-7.21435147e+14],\n",
              "        [-4.12621255e+15],\n",
              "        [ 1.00000000e+00]]), array([[-5.42754576e+14],\n",
              "        [ 2.42708323e+14],\n",
              "        [ 3.94724263e+15],\n",
              "        [ 1.00000000e+00]]), array([[ 1.26103349e+15],\n",
              "        [-1.07971751e+15],\n",
              "        [-9.19517493e+15],\n",
              "        [ 1.00000000e+00]]), array([[ 1.39854897e+14],\n",
              "        [-2.18129176e+14],\n",
              "        [-1.02271830e+15],\n",
              "        [ 1.00000000e+00]]), array([[ 3.76680565e+14],\n",
              "        [-2.77861490e+14],\n",
              "        [-2.76030069e+15],\n",
              "        [ 1.00000000e+00]]), array([[-7.86322615e+14],\n",
              "        [ 1.21259638e+15],\n",
              "        [ 5.77901620e+15],\n",
              "        [ 1.00000000e+00]]), array([[ 2.78952488e+15],\n",
              "        [-4.44137490e+15],\n",
              "        [-2.05796579e+16],\n",
              "        [ 1.00000000e+00]]), array([[ 2.95064695e+14],\n",
              "        [-4.31022860e+14],\n",
              "        [-2.18337547e+15],\n",
              "        [ 1.00000000e+00]]), array([[ 1.66081266e+14],\n",
              "        [-2.33876320e+14],\n",
              "        [-1.23077259e+15],\n",
              "        [ 1.00000000e+00]]), array([[ 3.68908753e+14],\n",
              "        [-5.64057196e+14],\n",
              "        [-2.74606511e+15],\n",
              "        [ 1.00000000e+00]]), array([[ 6.18035585e+14],\n",
              "        [ 4.36371046e+14],\n",
              "        [-4.60181278e+15],\n",
              "        [ 1.00000000e+00]]), array([[ 2.13879133e+14],\n",
              "        [ 1.33276378e+14],\n",
              "        [-1.59346641e+15],\n",
              "        [ 1.00000000e+00]]), array([[ 1.85320833e+15],\n",
              "        [ 1.06750827e+15],\n",
              "        [-1.38124089e+16],\n",
              "        [ 1.00000000e+00]]), array([[ 5.28346930e+14],\n",
              "        [-2.05552487e+14],\n",
              "        [-3.94859725e+15],\n",
              "        [ 1.00000000e+00]]), array([[-1.10676693e+15],\n",
              "        [-3.87770695e+14],\n",
              "        [ 8.29290008e+15],\n",
              "        [ 1.00000000e+00]]), array([[ 1.84489398e+15],\n",
              "        [ 4.27544699e+14],\n",
              "        [-1.38243197e+16],\n",
              "        [ 1.00000000e+00]]), array([[ 6.06242250e+14],\n",
              "        [-1.09836835e+15],\n",
              "        [-4.56539475e+15],\n",
              "        [ 1.00000000e+00]]), array([[-2.74905441e+15],\n",
              "        [-5.67322184e+14],\n",
              "        [ 2.07380091e+16],\n",
              "        [ 1.00000000e+00]]), array([[ 2.35233929e+14],\n",
              "        [-1.46975783e+14],\n",
              "        [-1.78217303e+15],\n",
              "        [ 1.00000000e+00]]), array([[ 9.36892945e+14],\n",
              "        [-1.06565890e+15],\n",
              "        [-7.11037613e+15],\n",
              "        [ 1.00000000e+00]]), array([[ 5.09417523e+14],\n",
              "        [-5.72775506e+14],\n",
              "        [-3.86738935e+15],\n",
              "        [ 1.00000000e+00]]), array([[-9.06227286e+14],\n",
              "        [-9.46195193e+14],\n",
              "        [ 6.89236135e+15],\n",
              "        [ 1.00000000e+00]]), array([[ 2.54828233e+15],\n",
              "        [-3.72704437e+15],\n",
              "        [-1.94033211e+16],\n",
              "        [ 1.00000000e+00]]), array([[-1.80226450e+15],\n",
              "        [-1.43184250e+15],\n",
              "        [ 1.38036655e+16],\n",
              "        [ 1.00000000e+00]]), array([[ 1.42068196e+14],\n",
              "        [ 1.29216517e+14],\n",
              "        [-1.08917295e+15],\n",
              "        [ 1.00000000e+00]]), array([[-3.37589388e+14],\n",
              "        [-1.67437979e+14],\n",
              "        [ 2.59103631e+15],\n",
              "        [ 1.00000000e+00]]), array([[ 2.84275819e+14],\n",
              "        [ 1.31280312e+14],\n",
              "        [-2.18212790e+15],\n",
              "        [ 1.00000000e+00]]), array([[ 2.84275819e+14],\n",
              "        [ 1.31280312e+14],\n",
              "        [-2.18212790e+15],\n",
              "        [ 1.00000000e+00]]), array([[ 1.02026113e+15],\n",
              "        [-1.60765466e+15],\n",
              "        [-7.84765711e+15],\n",
              "        [ 1.00000000e+00]]), array([[ 5.63147971e+14],\n",
              "        [-9.30947187e+14],\n",
              "        [-4.33391958e+15],\n",
              "        [ 1.00000000e+00]])]"
            ]
          },
          "metadata": {},
          "execution_count": 32
        }
      ]
    },
    {
      "cell_type": "code",
      "source": [
        ""
      ],
      "metadata": {
        "id": "0n1Rodn8GIMY"
      },
      "execution_count": null,
      "outputs": []
    }
  ]
}